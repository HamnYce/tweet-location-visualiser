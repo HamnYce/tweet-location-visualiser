{
 "cells": [
  {
   "cell_type": "code",
   "execution_count": 1,
   "id": "92c32ac1-aed8-41cf-b7d9-704dfc4aa160",
   "metadata": {},
   "outputs": [],
   "source": [
    "import pandas as pd"
   ]
  },
  {
   "cell_type": "code",
   "execution_count": 2,
   "id": "1fb15137-10dd-48b7-a0d1-fcfc59d5d7ef",
   "metadata": {},
   "outputs": [],
   "source": [
    "df = pd.read_csv('types.csv')"
   ]
  }
 ],
 "metadata": {
  "kernelspec": {
   "display_name": "Python 3 (ipykernel)",
   "language": "python",
   "name": "python3"
  },
  "language_info": {
   "codemirror_mode": {
    "name": "ipython",
    "version": 3
   },
   "file_extension": ".py",
   "mimetype": "text/x-python",
   "name": "python",
   "nbconvert_exporter": "python",
   "pygments_lexer": "ipython3",
   "version": "3.9.13"
  }
 },
 "nbformat": 4,
 "nbformat_minor": 5
}
